{
  "nbformat": 4,
  "nbformat_minor": 0,
  "metadata": {
    "colab": {
      "provenance": [],
      "include_colab_link": true
    },
    "kernelspec": {
      "name": "python3",
      "display_name": "Python 3"
    },
    "language_info": {
      "name": "python"
    }
  },
  "cells": [
    {
      "cell_type": "markdown",
      "metadata": {
        "id": "view-in-github",
        "colab_type": "text"
      },
      "source": [
        "<a href=\"https://colab.research.google.com/github/eRaOne/Raunak_001/blob/main/QuantPS.ipynb\" target=\"_parent\"><img src=\"https://colab.research.google.com/assets/colab-badge.svg\" alt=\"Open In Colab\"/></a>"
      ]
    },
    {
      "cell_type": "code",
      "execution_count": null,
      "metadata": {
        "id": "ZoDllQEU1BpU"
      },
      "outputs": [],
      "source": [
        "import pandas as pd\n",
        "import numpy as np"
      ]
    },
    {
      "cell_type": "markdown",
      "source": [
        "**Importing file**"
      ],
      "metadata": {
        "id": "BgBbwNxaxReu"
      }
    },
    {
      "cell_type": "code",
      "source": [
        "cp = pd.read_csv('stocks_data_Raunak001.csv')"
      ],
      "metadata": {
        "id": "e6NsNv1b22xz"
      },
      "execution_count": null,
      "outputs": []
    },
    {
      "cell_type": "markdown",
      "source": [
        "**Creating new column named avg_eps**"
      ],
      "metadata": {
        "id": "YISrsLRqxj_u"
      }
    },
    {
      "cell_type": "code",
      "source": [
        "cp['avg_eps']=(cp['eps_2022'] +cp['eps_2021']+cp['eps_2020'])/3"
      ],
      "metadata": {
        "id": "ef9KJ7YaCp3P"
      },
      "execution_count": null,
      "outputs": []
    },
    {
      "cell_type": "markdown",
      "source": [
        "**Creating new column named Ratio & sorting the data in descending order of this ratio**."
      ],
      "metadata": {
        "id": "SDJLuHdOxqY3"
      }
    },
    {
      "cell_type": "code",
      "source": [
        "#Value of this ratio is going to be used for @Ranking_the_stocks\n",
        "cp['Ratio']=cp['avg_eps']/cp['p/e']\n",
        "cp.sort_values('Ratio',ascending=False,inplace=True)\n"
      ],
      "metadata": {
        "id": "NDAYzT3aNxwm"
      },
      "execution_count": null,
      "outputs": []
    },
    {
      "cell_type": "code",
      "source": [
        "#Sorting the stocks according to given criteria\n",
        "cp=cp[cp['eps_2022']>0]\n",
        "cp=cp[cp['eps_2021']>0]\n",
        "cp=cp[cp['eps_2020']>0]\n",
        "cp=cp[cp['CAGR']>=10]\n",
        "cp=cp[cp['p/e']<40]\n",
        "cp=cp[cp['p/e']>0]\n"
        
        
      ],
      "metadata": {
        "id": "pOxLNTG4YGGZ"
      },
      "execution_count": null,
      "outputs": []
    },
    {
      "cell_type": "code",
      "source": [
        "#asigning the length of final dataframe to new variable\n",
        "l=len(cp)+1"
      ],
      "metadata": {
        "id": "iNUIvC5VX90B"
      },
      "execution_count": null,
      "outputs": []
    },
    {
      "cell_type": "code",
      "source": [
        "#giving the values to the column Rank\n",
        "cp['Rank']=np.arange(1,l)"
      ],
      "metadata": {
        "id": "F4N3ZXIGX7yG"
      },
      "execution_count": null,
      "outputs": []
    },
    {
      "cell_type": "code",
      "source": [
        "cp.to_excel(\"Quant.xlsx\", index=False)"
      ],
      "metadata": {
        "id": "dkPCHjbniz3v"
      },
      "execution_count": null,
      "outputs": []
    }
  ]
}
